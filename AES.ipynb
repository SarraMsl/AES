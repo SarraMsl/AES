{
  "nbformat": 4,
  "nbformat_minor": 0,
  "metadata": {
    "colab": {
      "provenance": []
    },
    "kernelspec": {
      "name": "python3",
      "display_name": "Python 3"
    },
    "language_info": {
      "name": "python"
    }
  },
  "cells": [
    {
      "cell_type": "code",
      "source": [
        "!pip install pycryptodome"
      ],
      "metadata": {
        "colab": {
          "base_uri": "https://localhost:8080/"
        },
        "id": "hBsw_y_bZPKr",
        "outputId": "97066d4a-3583-4944-f336-e9655f0389dc"
      },
      "execution_count": 3,
      "outputs": [
        {
          "output_type": "stream",
          "name": "stdout",
          "text": [
            "Looking in indexes: https://pypi.org/simple, https://us-python.pkg.dev/colab-wheels/public/simple/\n",
            "Requirement already satisfied: pycryptodome in /usr/local/lib/python3.9/dist-packages (3.17)\n"
          ]
        }
      ]
    },
    {
      "cell_type": "code",
      "execution_count": 4,
      "metadata": {
        "colab": {
          "base_uri": "https://localhost:8080/"
        },
        "id": "eTXJn3D7ZIAo",
        "outputId": "177ba954-ff6b-4f59-c80b-219f83c19fc7"
      },
      "outputs": [
        {
          "output_type": "stream",
          "name": "stdout",
          "text": [
            "Plaintext:  b'This is a test message'\n",
            "Ciphertext:  b'puHlG3hEcyduVM9pc3dtJ8qHY/h+N9B0uThQ0PEuJ14='\n",
            "Decrypted plaintext:  b'This is a test message'\n"
          ]
        }
      ],
      "source": [
        "from Crypto.Cipher import AES\n",
        "import base64\n",
        "import secrets\n",
        "\n",
        "# Set the encryption key and initialization vector\n",
        "# Generate a random AES-128 key\n",
        "encryption_key =  secrets.token_bytes(16)\n",
        "iv = b'This is an IV456'\n",
        "\n",
        "# Pad the plaintext to a multiple of 16 bytes\n",
        "def pad(plaintext):\n",
        "    return plaintext + b\"\\0\" * (AES.block_size - len(plaintext) % AES.block_size)\n",
        "\n",
        "# Encrypt the plaintext using AES-128 in CBC mode\n",
        "def encrypt(plaintext):\n",
        "    cipher = AES.new(encryption_key, AES.MODE_CBC, iv)\n",
        "    ciphertext = cipher.encrypt(pad(plaintext))\n",
        "    return base64.b64encode(ciphertext)\n",
        "\n",
        "# Decrypt the ciphertext using AES-128 in CBC mode\n",
        "def decrypt(ciphertext):\n",
        "    cipher = AES.new(encryption_key, AES.MODE_CBC, iv)\n",
        "    plaintext = cipher.decrypt(base64.b64decode(ciphertext))\n",
        "    return plaintext.rstrip(b\"\\0\")\n",
        "\n",
        "# Example usage\n",
        "plaintext = b'This is a test message'\n",
        "ciphertext = encrypt(plaintext)\n",
        "decrypted_plaintext = decrypt(ciphertext)\n",
        "print(\"Plaintext: \", plaintext)\n",
        "print(\"Ciphertext: \", ciphertext)\n",
        "print(\"Decrypted plaintext: \", decrypted_plaintext)\n"
      ]
    }
  ]
}